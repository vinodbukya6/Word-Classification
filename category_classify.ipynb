{
  "nbformat": 4,
  "nbformat_minor": 0,
  "metadata": {
    "colab": {
      "name": "R4_category_classify.ipynb",
      "provenance": []
    },
    "kernelspec": {
      "name": "python3",
      "display_name": "Python 3"
    },
    "accelerator": "GPU"
  },
  "cells": [
    {
      "cell_type": "code",
      "metadata": {
        "id": "owWI2WAeqyQf"
      },
      "source": [
        "# installations if any"
      ],
      "execution_count": null,
      "outputs": []
    },
    {
      "cell_type": "code",
      "metadata": {
        "colab": {
          "base_uri": "https://localhost:8080/"
        },
        "id": "mmLALcDGrEzH",
        "outputId": "0ca3d742-88f5-4561-f9d0-da118774e3db"
      },
      "source": [
        "# mount drive\n",
        "from google.colab import drive\n",
        "drive.mount('/content/drive') "
      ],
      "execution_count": null,
      "outputs": [
        {
          "output_type": "stream",
          "text": [
            "Mounted at /content/drive\n"
          ],
          "name": "stdout"
        }
      ]
    },
    {
      "cell_type": "code",
      "metadata": {
        "id": "McA-q45zr7Z_"
      },
      "source": [
        "# folder path\n",
        "folder_path = '/content/drive/My Drive/DataToBiz/GetMee-R4/'"
      ],
      "execution_count": null,
      "outputs": []
    },
    {
      "cell_type": "code",
      "metadata": {
        "id": "DyG_J7etrG4X"
      },
      "source": [
        "# import libraries\n",
        "import numpy as np"
      ],
      "execution_count": null,
      "outputs": []
    },
    {
      "cell_type": "code",
      "metadata": {
        "colab": {
          "base_uri": "https://localhost:8080/"
        },
        "id": "dAOJniMQrLj8",
        "outputId": "f0751580-1cd0-494d-f246-95f0785ef7ff"
      },
      "source": [
        "# Category -> words\n",
        "data = {\n",
        "  'Names': ['john','jay','dan','nathan','bob'],\n",
        "  'Colors': ['yellow', 'red','green'],\n",
        "  'Places': ['tokyo','bejing','washington','mumbai'],\n",
        "}\n",
        "# Words -> category\n",
        "categories = {word: key for key, words in data.items() for word in words}\n",
        "# download 'glove.6B.100d.txt' from 'http://nlp.stanford.edu/data/glove.6B.zip'\n",
        "# Load the whole embedding matrix\n",
        "embeddings_index = {}\n",
        "with open(folder_path + 'glove.6B.100d.txt') as f:\n",
        "  for line in f:\n",
        "    values = line.split()\n",
        "    word = values[0]\n",
        "    embed = np.array(values[1:], dtype=np.float32)\n",
        "    embeddings_index[word] = embed\n",
        "print('Loaded %s word vectors.' % len(embeddings_index))\n",
        "# Embeddings for available words\n",
        "data_embeddings = {key: value for key, value in embeddings_index.items() if key in categories.keys()}"
      ],
      "execution_count": null,
      "outputs": [
        {
          "output_type": "stream",
          "text": [
            "Loaded 400000 word vectors.\n"
          ],
          "name": "stdout"
        }
      ]
    },
    {
      "cell_type": "code",
      "metadata": {
        "id": "jMrAgZ3BraiJ"
      },
      "source": [
        "# Processing the query\n",
        "def process(query):\n",
        "  query_embed = embeddings_index[query]\n",
        "  scores = {}\n",
        "  for word, embed in data_embeddings.items():\n",
        "    category = categories[word]\n",
        "    dist = query_embed.dot(embed)\n",
        "    dist /= len(data[category])\n",
        "    scores[category] = scores.get(category, 0) + dist\n",
        "  return scores"
      ],
      "execution_count": null,
      "outputs": []
    },
    {
      "cell_type": "code",
      "metadata": {
        "colab": {
          "base_uri": "https://localhost:8080/"
        },
        "id": "GDwPwIo-ramJ",
        "outputId": "a10e8bd1-29d0-4165-966c-61a2fff6194e"
      },
      "source": [
        "# Testing\n",
        "print(process('pink'))\n",
        "print(process('frank'))\n",
        "print(process('moscow'))"
      ],
      "execution_count": null,
      "outputs": [
        {
          "output_type": "stream",
          "text": [
            "{'Names': 5.058711671829224, 'Places': 0.9021390527486801, 'Colors': 24.655489603678387}\n",
            "{'Names': 15.570847320556641, 'Places': 3.5302454829216003, 'Colors': 6.859732151031494}\n",
            "{'Names': 4.58830726146698, 'Places': 14.7840416431427, 'Colors': 8.291937510172525}\n"
          ],
          "name": "stdout"
        }
      ]
    },
    {
      "cell_type": "code",
      "metadata": {
        "id": "FMeXH0Itrapa"
      },
      "source": [
        "# our categories\n",
        "#Category 1 - Formal words\n",
        "#Category 2 - Informal words\n",
        "#Category 3 - Rude words\n",
        "#Category 4 - Profanity"
      ],
      "execution_count": null,
      "outputs": []
    },
    {
      "cell_type": "code",
      "metadata": {
        "id": "_c5YxvLLwS9O"
      },
      "source": [
        "# Category -> words\n",
        "data = {\n",
        "  'Formal words': ['increase','Children','discover','omit','required', 'apologize', 'many', 'completely'],\n",
        "  'Informal words': ['need', 'get','seem', 'keep', 'free', 'bad', 'lot', 'totally'],\n",
        "  'Rude words': ['Bloody','hell','Bastard','stupid'],\n",
        "}\n",
        "# Words -> category\n",
        "categories = {word: key for key, words in data.items() for word in words}\n",
        "# embeddings\n",
        "data_embeddings = {key: value for key, value in embeddings_index.items() if key in categories.keys()}"
      ],
      "execution_count": null,
      "outputs": []
    },
    {
      "cell_type": "code",
      "metadata": {
        "colab": {
          "base_uri": "https://localhost:8080/"
        },
        "id": "31E6KKbAxvsy",
        "outputId": "04d81b76-1546-400a-c326-1ae237878458"
      },
      "source": [
        "# Testing\n",
        "print(process('fully'))"
      ],
      "execution_count": null,
      "outputs": [
        {
          "output_type": "stream",
          "text": [
            "{'Formal words': 10.60434016957879, 'Informal words': 15.249672770500183, 'Rude words': 2.4587972164154053}\n"
          ],
          "name": "stdout"
        }
      ]
    },
    {
      "cell_type": "code",
      "metadata": {
        "id": "m7j4VfoYx8Jy"
      },
      "source": [
        "# what are we trying to solve here?\n",
        "# are we going to suggest formal/informal words to user for given words?\n",
        "# we are going to tell user to use formal/informal words?\n",
        "# or if user is using more informal words then we say use formal words?"
      ],
      "execution_count": null,
      "outputs": []
    }
  ]
}